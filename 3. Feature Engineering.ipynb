{
 "cells": [
  {
   "cell_type": "markdown",
   "id": "0867ec73",
   "metadata": {},
   "source": [
    "#### Question:\n",
    "\n",
    "In real world, data never comes in a tidy (n_sample, n_features) matrix.\n",
    "- How to turn information into numbers that I can use to build my feature matrix ? This is **Feature Engineering**\n",
    "\n",
    "- How to reprensent:\n",
    "    - Categorical features\n",
    "    - Text\n",
    "    - Images\n",
    "    - Derived features (to increase model complexity)\n",
    "    - Imputation of missing data"
   ]
  },
  {
   "cell_type": "code",
   "execution_count": 20,
   "id": "ea6ae649",
   "metadata": {},
   "outputs": [
    {
     "name": "stdout",
     "output_type": "stream",
     "text": [
      "Feature matrix after transformation: \n",
      " [[     0      1      0 850000      4]\n",
      " [     1      0      0 700000      3]\n",
      " [     0      0      1 650000      3]\n",
      " [     1      0      0 600000      2]]\n",
      "Columns names: \n",
      " ['neighborhood=Fremont', 'neighborhood=Queen Anne', 'neighborhood=Wallingford', 'price', 'rooms']\n"
     ]
    },
    {
     "data": {
      "text/html": [
       "<div>\n",
       "<style scoped>\n",
       "    .dataframe tbody tr th:only-of-type {\n",
       "        vertical-align: middle;\n",
       "    }\n",
       "\n",
       "    .dataframe tbody tr th {\n",
       "        vertical-align: top;\n",
       "    }\n",
       "\n",
       "    .dataframe thead th {\n",
       "        text-align: right;\n",
       "    }\n",
       "</style>\n",
       "<table border=\"1\" class=\"dataframe\">\n",
       "  <thead>\n",
       "    <tr style=\"text-align: right;\">\n",
       "      <th></th>\n",
       "      <th>neighborhood=Fremont</th>\n",
       "      <th>neighborhood=Queen Anne</th>\n",
       "      <th>neighborhood=Wallingford</th>\n",
       "      <th>price</th>\n",
       "      <th>rooms</th>\n",
       "    </tr>\n",
       "  </thead>\n",
       "  <tbody>\n",
       "    <tr>\n",
       "      <th>0</th>\n",
       "      <td>0</td>\n",
       "      <td>1</td>\n",
       "      <td>0</td>\n",
       "      <td>850000</td>\n",
       "      <td>4</td>\n",
       "    </tr>\n",
       "    <tr>\n",
       "      <th>1</th>\n",
       "      <td>1</td>\n",
       "      <td>0</td>\n",
       "      <td>0</td>\n",
       "      <td>700000</td>\n",
       "      <td>3</td>\n",
       "    </tr>\n",
       "    <tr>\n",
       "      <th>2</th>\n",
       "      <td>0</td>\n",
       "      <td>0</td>\n",
       "      <td>1</td>\n",
       "      <td>650000</td>\n",
       "      <td>3</td>\n",
       "    </tr>\n",
       "    <tr>\n",
       "      <th>3</th>\n",
       "      <td>1</td>\n",
       "      <td>0</td>\n",
       "      <td>0</td>\n",
       "      <td>600000</td>\n",
       "      <td>2</td>\n",
       "    </tr>\n",
       "  </tbody>\n",
       "</table>\n",
       "</div>"
      ],
      "text/plain": [
       "   neighborhood=Fremont  neighborhood=Queen Anne  neighborhood=Wallingford  \\\n",
       "0                     0                        1                         0   \n",
       "1                     1                        0                         0   \n",
       "2                     0                        0                         1   \n",
       "3                     1                        0                         0   \n",
       "\n",
       "    price  rooms  \n",
       "0  850000      4  \n",
       "1  700000      3  \n",
       "2  650000      3  \n",
       "3  600000      2  "
      ]
     },
     "metadata": {},
     "output_type": "display_data"
    }
   ],
   "source": [
    "## Categorical Features\n",
    "# Convert categories into numerical features\n",
    "import pandas as pd\n",
    "\n",
    "data = [\n",
    "    {'price': 850000, 'rooms': 4, 'neighborhood': 'Queen Anne'},\n",
    "    {'price': 700000, 'rooms': 3, 'neighborhood': 'Fremont'},\n",
    "    {'price': 650000, 'rooms': 3, 'neighborhood': 'Wallingford'},\n",
    "    {'price': 600000, 'rooms': 2, 'neighborhood': 'Fremont'}\n",
    "]\n",
    "# \"neigborhood\" is a categorical feature\n",
    "\n",
    "# One hot encoding: Create extra binary column indicating the presence or absence of a category\n",
    "# When data comes as a list of dict, we can use DictVectorizer\n",
    "\n",
    "from sklearn.feature_extraction import DictVectorizer\n",
    "vec = DictVectorizer(sparse = False, # Wether the model transform() should produce a scipy.sparce matrice\n",
    "                     dtype = int # Type of the feature values\n",
    "                     )\n",
    "vec.fit(data) # Learn a list of feature name\n",
    "print(\"Feature matrix after transformation: \\n\", vec.transform(data)) # Transform the features to sparce matrix\n",
    "print(\"Columns names: \\n\", vec.get_feature_names())\n",
    "# The \"neighborhood\" column has been expanded into 3 binary columns\n",
    "\n",
    "display(pd.DataFrame(data = vec.transform(data),\n",
    "                     columns= vec.get_feature_names()))\n",
    "\n",
    "# Problem -> Increase too much the size of the dataset"
   ]
  },
  {
   "cell_type": "code",
   "execution_count": 32,
   "id": "9ff6b0b9",
   "metadata": {},
   "outputs": [
    {
     "data": {
      "text/html": [
       "<div>\n",
       "<style scoped>\n",
       "    .dataframe tbody tr th:only-of-type {\n",
       "        vertical-align: middle;\n",
       "    }\n",
       "\n",
       "    .dataframe tbody tr th {\n",
       "        vertical-align: top;\n",
       "    }\n",
       "\n",
       "    .dataframe thead th {\n",
       "        text-align: right;\n",
       "    }\n",
       "</style>\n",
       "<table border=\"1\" class=\"dataframe\">\n",
       "  <thead>\n",
       "    <tr style=\"text-align: right;\">\n",
       "      <th></th>\n",
       "      <th>evil</th>\n",
       "      <th>horizon</th>\n",
       "      <th>of</th>\n",
       "      <th>problem</th>\n",
       "      <th>queen</th>\n",
       "    </tr>\n",
       "  </thead>\n",
       "  <tbody>\n",
       "    <tr>\n",
       "      <th>0</th>\n",
       "      <td>1</td>\n",
       "      <td>0</td>\n",
       "      <td>1</td>\n",
       "      <td>1</td>\n",
       "      <td>0</td>\n",
       "    </tr>\n",
       "    <tr>\n",
       "      <th>1</th>\n",
       "      <td>1</td>\n",
       "      <td>0</td>\n",
       "      <td>0</td>\n",
       "      <td>0</td>\n",
       "      <td>1</td>\n",
       "    </tr>\n",
       "    <tr>\n",
       "      <th>2</th>\n",
       "      <td>0</td>\n",
       "      <td>1</td>\n",
       "      <td>0</td>\n",
       "      <td>1</td>\n",
       "      <td>0</td>\n",
       "    </tr>\n",
       "  </tbody>\n",
       "</table>\n",
       "</div>"
      ],
      "text/plain": [
       "   evil  horizon  of  problem  queen\n",
       "0     1        0   1        1      0\n",
       "1     1        0   0        0      1\n",
       "2     0        1   0        1      0"
      ]
     },
     "execution_count": 32,
     "metadata": {},
     "output_type": "execute_result"
    }
   ],
   "source": [
    "## Text Features (Word count)\n",
    "# Convert text to numerical feature\n",
    "\n",
    "sample = ['problem of evil',\n",
    "          'evil queen',\n",
    "          'horizon problem']\n",
    "\n",
    "# Word count: Create a new column for each word(e.g. \"problem\") with number of occurences\n",
    "from sklearn.feature_extraction.text import CountVectorizer\n",
    "\n",
    "vec = CountVectorizer()\n",
    "X = vec.fit_transform(sample) # Return a CountVectorizer object\n",
    "pd.DataFrame(X.toarray(),\n",
    "             columns = vec.get_feature_names())\n",
    "\n",
    "# Problem: Lead to feature which put too much weight on words that appear very frequently\n",
    "# Solution: Term Frequency-Inverse Document Frequency (TF-IDF).\n",
    "#           Give a higher weight to words not frequently used\n",
    "#           Increase the value of a word if it is not frequently used"
   ]
  },
  {
   "cell_type": "code",
   "execution_count": 34,
   "id": "64763ee4",
   "metadata": {},
   "outputs": [
    {
     "data": {
      "text/html": [
       "<div>\n",
       "<style scoped>\n",
       "    .dataframe tbody tr th:only-of-type {\n",
       "        vertical-align: middle;\n",
       "    }\n",
       "\n",
       "    .dataframe tbody tr th {\n",
       "        vertical-align: top;\n",
       "    }\n",
       "\n",
       "    .dataframe thead th {\n",
       "        text-align: right;\n",
       "    }\n",
       "</style>\n",
       "<table border=\"1\" class=\"dataframe\">\n",
       "  <thead>\n",
       "    <tr style=\"text-align: right;\">\n",
       "      <th></th>\n",
       "      <th>evil</th>\n",
       "      <th>horizon</th>\n",
       "      <th>of</th>\n",
       "      <th>problem</th>\n",
       "      <th>queen</th>\n",
       "    </tr>\n",
       "  </thead>\n",
       "  <tbody>\n",
       "    <tr>\n",
       "      <th>0</th>\n",
       "      <td>0.517856</td>\n",
       "      <td>0.000000</td>\n",
       "      <td>0.680919</td>\n",
       "      <td>0.517856</td>\n",
       "      <td>0.000000</td>\n",
       "    </tr>\n",
       "    <tr>\n",
       "      <th>1</th>\n",
       "      <td>0.605349</td>\n",
       "      <td>0.000000</td>\n",
       "      <td>0.000000</td>\n",
       "      <td>0.000000</td>\n",
       "      <td>0.795961</td>\n",
       "    </tr>\n",
       "    <tr>\n",
       "      <th>2</th>\n",
       "      <td>0.000000</td>\n",
       "      <td>0.795961</td>\n",
       "      <td>0.000000</td>\n",
       "      <td>0.605349</td>\n",
       "      <td>0.000000</td>\n",
       "    </tr>\n",
       "  </tbody>\n",
       "</table>\n",
       "</div>"
      ],
      "text/plain": [
       "       evil   horizon        of   problem     queen\n",
       "0  0.517856  0.000000  0.680919  0.517856  0.000000\n",
       "1  0.605349  0.000000  0.000000  0.000000  0.795961\n",
       "2  0.000000  0.795961  0.000000  0.605349  0.000000"
      ]
     },
     "execution_count": 34,
     "metadata": {},
     "output_type": "execute_result"
    }
   ],
   "source": [
    "## Text Features (TF-IDF)\n",
    "\n",
    "from sklearn.feature_extraction.text import TfidfVectorizer\n",
    "\n",
    "vec = TfidfVectorizer()\n",
    "X = vec.fit_transform(sample)\n",
    "pd.DataFrame(X.toarray(), columns = vec.get_feature_names())"
   ]
  },
  {
   "cell_type": "code",
   "execution_count": 56,
   "id": "6174c1f9",
   "metadata": {},
   "outputs": [
    {
     "name": "stderr",
     "output_type": "stream",
     "text": [
      "/Users/nicolas/anaconda/lib/python3.6/site-packages/seaborn/_decorators.py:43: FutureWarning: Pass the following variables as keyword args: x, y. From version 0.12, the only valid positional argument will be `data`, and passing other arguments without an explicit keyword will result in an error or misinterpretation.\n",
      "  FutureWarning\n",
      "/Users/nicolas/anaconda/lib/python3.6/site-packages/seaborn/_decorators.py:43: FutureWarning: Pass the following variables as keyword args: x, y. From version 0.12, the only valid positional argument will be `data`, and passing other arguments without an explicit keyword will result in an error or misinterpretation.\n",
      "  FutureWarning\n"
     ]
    },
    {
     "data": {
      "text/plain": [
       "<AxesSubplot:>"
      ]
     },
     "execution_count": 56,
     "metadata": {},
     "output_type": "execute_result"
    },
    {
     "data": {
      "image/png": "[encoded data removed]",
      "text/plain": [
       "<Figure size 432x288 with 1 Axes>"
      ]
     },
     "metadata": {
      "needs_background": "light"
     },
     "output_type": "display_data"
    }
   ],
   "source": [
    "## Derived Features\n",
    "# Feature which is mathematically derived from some input features\n",
    "\n",
    "# Following data cannot be well described by a straight line\n",
    "import numpy as np\n",
    "import seaborn as sns\n",
    "import matplotlib.pyplot as plt\n",
    "\n",
    "x = np.array([1, 2, 3, 4, 5])\n",
    "y = np.array([4, 2, 1, 3, 7])\n",
    "sns.scatterplot(x, y)\n",
    "\n",
    "from sklearn.linear_model import LinearRegression\n",
    "\n",
    "X = x[:, np.newaxis]\n",
    "model = LinearRegression()\n",
    "model.fit(X, y)\n",
    "y_model = model.predict(X)\n",
    "sns.lineplot(x, y_model)\n"
   ]
  },
  {
   "cell_type": "code",
   "execution_count": 68,
   "id": "d7288c2d",
   "metadata": {},
   "outputs": [
    {
     "data": {
      "text/plain": [
       "array([4, 2, 1, 3, 7])"
      ]
     },
     "execution_count": 68,
     "metadata": {},
     "output_type": "execute_result"
    }
   ],
   "source": [
    "y"
   ]
  },
  {
   "cell_type": "code",
   "execution_count": 71,
   "id": "2e401c3b",
   "metadata": {},
   "outputs": [
    {
     "name": "stdout",
     "output_type": "stream",
     "text": [
      "[[  1.   1.   1.]\n",
      " [  2.   4.   8.]\n",
      " [  3.   9.  27.]\n",
      " [  4.  16.  64.]\n",
      " [  5.  25. 125.]]\n"
     ]
    },
    {
     "name": "stderr",
     "output_type": "stream",
     "text": [
      "/Users/nicolas/anaconda/lib/python3.6/site-packages/seaborn/_decorators.py:43: FutureWarning: Pass the following variables as keyword args: x, y. From version 0.12, the only valid positional argument will be `data`, and passing other arguments without an explicit keyword will result in an error or misinterpretation.\n",
      "  FutureWarning\n",
      "/Users/nicolas/anaconda/lib/python3.6/site-packages/seaborn/_decorators.py:43: FutureWarning: Pass the following variables as keyword args: x, y. From version 0.12, the only valid positional argument will be `data`, and passing other arguments without an explicit keyword will result in an error or misinterpretation.\n",
      "  FutureWarning\n"
     ]
    },
    {
     "data": {
      "text/plain": [
       "<AxesSubplot:>"
      ]
     },
     "execution_count": 71,
     "metadata": {},
     "output_type": "execute_result"
    },
    {
     "data": {
      "image/png": "[encoded data removed]",
      "text/plain": [
       "<Figure size 432x288 with 1 Axes>"
      ]
     },
     "metadata": {
      "needs_background": "light"
     },
     "output_type": "display_data"
    }
   ],
   "source": [
    "# Add polynomial features to the data to drive more flexibility in the model\n",
    "\n",
    "from sklearn.preprocessing import PolynomialFeatures\n",
    "\n",
    "# Generate a new feature matrix consisting of all polymial combinations of the features with degree less than 3\n",
    "# If a sample has 2 features: [a, b], then the degree-2 polynomial features are:\n",
    "# [1, a, b, a^2, ab, b^2].\n",
    "poly_features = PolynomialFeatures(degree = 3, include_bias=False)\n",
    "X2 = poly_features.fit_transform(X)\n",
    "print(X2)\n",
    "\n",
    "# Col 1 = x\n",
    "# Col 2 = x^2\n",
    "# Col 3 = x^3\n",
    "\n",
    "# Now, if we still compute a LinearRegression on the expand data, we'll get a better model\n",
    "model2 = LinearRegression()\n",
    "y_model_2 = model2.fit(X2, y).predict(X2)\n",
    "sns.scatterplot(x, y)\n",
    "sns.lineplot(x, y_model_2)"
   ]
  },
  {
   "cell_type": "code",
   "execution_count": 78,
   "id": "11ea4ea7",
   "metadata": {},
   "outputs": [
    {
     "data": {
      "text/plain": [
       "array([[4.5, 0. , 3. ],\n",
       "       [3. , 7. , 9. ],\n",
       "       [3. , 5. , 2. ],\n",
       "       [4. , 5. , 6. ],\n",
       "       [8. , 8. , 1. ]])"
      ]
     },
     "execution_count": 78,
     "metadata": {},
     "output_type": "execute_result"
    }
   ],
   "source": [
    "## Imputation of Missing Data\n",
    "\n",
    "X = np.array([[np.nan, 0,   3  ],\n",
    "              [ 3,   7,   9  ],\n",
    "              [ 3,   5,   2  ],\n",
    "              [ 4,   np.nan, 6  ],\n",
    "              [ 8,   8,   1  ]])\n",
    "y = np.array([14, 16, -1,  8, -5])\n",
    "\n",
    "# Replace missing value with mean ? median ? Most frequent value ? Other techniques ?\n",
    "\n",
    "from sklearn.preprocessing import Imputer\n",
    "imp = Imputer(strategy='mean') # Column-wise by default\n",
    "X2 = imp.fit_transform(X)\n",
    "X2"
   ]
  },
  {
   "cell_type": "code",
   "execution_count": 83,
   "id": "879a6267",
   "metadata": {},
   "outputs": [
    {
     "data": {
      "text/plain": [
       "array([14., 16., -1.,  8., -5.])"
      ]
     },
     "execution_count": 83,
     "metadata": {},
     "output_type": "execute_result"
    }
   ],
   "source": [
    "## Feature pipeline\n",
    "\n",
    "# Bundle the following step into a single model\n",
    "# 1. Impute missing values using the mean\n",
    "# 2. Transform features to quadratic\n",
    "# 3. Fit a Linear Regression\n",
    "\n",
    "from sklearn.pipeline import make_pipeline\n",
    "\n",
    "model = make_pipeline(Imputer(strategy = \"mean\"),\n",
    "                      PolynomialFeatures(degree = 3, include_bias=False),\n",
    "                      LinearRegression())\n",
    "\n",
    "model.fit(X, y)\n",
    "y_model = model.predict(X)\n"
   ]
  },
  {
   "cell_type": "markdown",
   "id": "1af9eccf",
   "metadata": {},
   "source": [
    "### Concept Summary:\n",
    "    \n",
    "- **Categorical features:**\n",
    "    - One-hot encoding: Add binary column for each item in the category. Problem: Increase greatly the size of the dataset\n",
    "    \n",
    "- **Text encoding:**\n",
    "    - Word count: Count the number of occurences of each word. Problem: weight too high for words appearing frequently\n",
    "    - Term Frequency Inverse Document Frequency (TF-IDF)\n",
    "    \n",
    "- **Image encoding**\n",
    "\n",
    "- **Derived Features:**\n",
    "    - Improve the model not by changing the model but by transforming the input\n",
    "    \n",
    "- **Imputation of Missing Data**\n",
    "\n",
    "- **Feature pipeline:**\n",
    "    - Bundle multiple step into 1 model"
   ]
  },
  {
   "cell_type": "code",
   "execution_count": null,
   "id": "b8bee10c",
   "metadata": {},
   "outputs": [],
   "source": []
  }
 ],
 "metadata": {
  "kernelspec": {
   "display_name": "Python 3",
   "language": "python",
   "name": "python3"
  },
  "language_info": {
   "codemirror_mode": {
    "name": "ipython",
    "version": 3
   },
   "file_extension": ".py",
   "mimetype": "text/x-python",
   "name": "python",
   "nbconvert_exporter": "python",
   "pygments_lexer": "ipython3",
   "version": "3.6.13"
  }
 },
 "nbformat": 4,
 "nbformat_minor": 5
}
